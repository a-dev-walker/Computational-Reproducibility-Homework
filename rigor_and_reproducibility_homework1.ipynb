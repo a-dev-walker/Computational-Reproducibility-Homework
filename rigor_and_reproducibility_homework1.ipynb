{
  "nbformat": 4,
  "nbformat_minor": 0,
  "metadata": {
    "colab": {
      "provenance": [],
      "authorship_tag": "ABX9TyOh11I5+HPXWIKEGcoqEAwj",
      "include_colab_link": true
    },
    "kernelspec": {
      "name": "python3",
      "display_name": "Python 3"
    },
    "language_info": {
      "name": "python"
    }
  },
  "cells": [
    {
      "cell_type": "markdown",
      "metadata": {
        "id": "view-in-github",
        "colab_type": "text"
      },
      "source": [
        "<a href=\"https://colab.research.google.com/github/a-dev-walker/Computational-Reproducibility-Homework/blob/main/rigor_and_reproducibility_homework1.ipynb\" target=\"_parent\"><img src=\"https://colab.research.google.com/assets/colab-badge.svg\" alt=\"Open In Colab\"/></a>"
      ]
    },
    {
      "cell_type": "markdown",
      "source": [
        "Set up a free GitHub account and create your first repository. Go to Google Colab and create a simple analysis file. In that analysis file, print today’s date, a simple arithmetic operation (e.g. 2*5) and write a brief reflection (no more than 300 words) on how using repositories, tracking changes and publishing like GitHub can help with computational reproducibility. Post this file to your GitHub repository and submit the link to the repository with your homework in it."
      ],
      "metadata": {
        "id": "m6n43YE3wxy_"
      }
    },
    {
      "cell_type": "code",
      "execution_count": null,
      "metadata": {
        "colab": {
          "base_uri": "https://localhost:8080/"
        },
        "id": "LL326Krqu22J",
        "outputId": "e33c4a90-7ec2-48f7-c85e-e0c08c30259d"
      },
      "outputs": [
        {
          "output_type": "stream",
          "name": "stdout",
          "text": [
            "42\n"
          ]
        }
      ],
      "source": [
        "x = 2+2+2+2+2*17\n",
        "print(x)"
      ]
    },
    {
      "cell_type": "markdown",
      "source": [
        "Using repositories is one of the best ways to aid in computational reproducibility as github’s goal is to track all of your code as well as all of the changes to your code that you’ve made over the course of a computational experiment. Thus, you’re able to revert to any prior version of the code and completely keep track of all of the major differences to your program over the years. This allows any outside researcher the ability to download the code and test it out for themselves if they also have the data needed to complete the processing. It’s also very valuable for the researcher themself, as storing the code in a central repository is a reliable way to avoid common errors with versioning. It can also help as a place to safely store the code that’s not just on one person’s computer in the event of theft or technical issues with the computer. The most important part about repositories is that, if they’re allowed to be, they are publicly available and maintained externally to the lab/researcher so the code will persist without the need of the researcher’s intervention. This greatly assists with the ability to share the code and not waste the researcher’s time with having to respond to code requests. Lastly, the wide availability of code helps with the general concept of open source and allowing researchers/coders to build on one another’s code bases to advance computing in general."
      ],
      "metadata": {
        "id": "r_0LXfMSy_eg"
      }
    }
  ]
}